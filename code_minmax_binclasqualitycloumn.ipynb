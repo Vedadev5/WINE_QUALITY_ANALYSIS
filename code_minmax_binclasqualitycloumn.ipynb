{
  "nbformat": 4,
  "nbformat_minor": 0,
  "metadata": {
    "colab": {
      "provenance": []
    },
    "kernelspec": {
      "name": "python3",
      "display_name": "Python 3"
    },
    "language_info": {
      "name": "python"
    }
  },
  "cells": [
    {
      "cell_type": "code",
      "execution_count": 1,
      "metadata": {
        "colab": {
          "base_uri": "https://localhost:8080/"
        },
        "id": "UZRgdguN8LlO",
        "outputId": "e2079694-0e0b-460d-a5d4-0d9bc5e34783"
      },
      "outputs": [
        {
          "output_type": "stream",
          "name": "stdout",
          "text": [
            "   fixed acidity  volatile acidity  citric acid  residual sugar  chlorides  \\\n",
            "0       0.247788          0.397260         0.00        0.068493   0.106845   \n",
            "1       0.283186          0.520548         0.00        0.116438   0.143573   \n",
            "2       0.283186          0.438356         0.04        0.095890   0.133556   \n",
            "3       0.584071          0.109589         0.56        0.068493   0.105175   \n",
            "4       0.247788          0.397260         0.00        0.068493   0.106845   \n",
            "\n",
            "   free sulfur dioxide  total sulfur dioxide   density        pH  sulphates  \\\n",
            "0             0.149254              0.098940  0.567548  0.606299   0.137725   \n",
            "1             0.358209              0.215548  0.494126  0.362205   0.209581   \n",
            "2             0.208955              0.169611  0.508811  0.409449   0.191617   \n",
            "3             0.238806              0.190813  0.582232  0.330709   0.149701   \n",
            "4             0.149254              0.098940  0.567548  0.606299   0.137725   \n",
            "\n",
            "    alcohol        Id  quality  \n",
            "0  0.153846  0.000000        0  \n",
            "1  0.215385  0.000626        0  \n",
            "2  0.215385  0.001252        0  \n",
            "3  0.215385  0.001879        0  \n",
            "4  0.153846  0.002505        0  \n"
          ]
        }
      ],
      "source": [
        "import pandas as pd\n",
        "from sklearn.preprocessing import MinMaxScaler\n",
        "\n",
        "# Load the dataset\n",
        "df = pd.read_csv('/content/WineQT.csv')\n",
        "\n",
        "# Convert 'quality' attribute\n",
        "df['quality'] = df['quality'].apply(lambda x: 0 if x <= 6 else 1)\n",
        "\n",
        "# Separating features and target variable\n",
        "X = df.drop('quality', axis=1)\n",
        "y = df['quality']\n",
        "\n",
        "# Applying Min-Max Scaling\n",
        "scaler = MinMaxScaler()\n",
        "X_scaled = pd.DataFrame(scaler.fit_transform(X), columns=X.columns)\n",
        "\n",
        "# Combining the scaled features with the target variable\n",
        "df_scaled = pd.concat([X_scaled, y], axis=1)\n",
        "\n",
        "# Displaying the first few rows of the resulting DataFrame\n",
        "print(df_scaled.head())\n",
        "\n",
        "# Saving the processed data to a new CSV file (optional)\n",
        "df_scaled.to_csv('winequality_processed.csv', index=False)\n"
      ]
    }
  ]
}